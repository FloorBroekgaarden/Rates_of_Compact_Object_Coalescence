{
 "cells": [
  {
   "cell_type": "markdown",
   "metadata": {},
   "source": [
    "# Introduction\n",
    "\n",
    "This jupyter notebook reproduces the main figures (the three figures with the rates) from the review by Mandel & Broekgaarden (2021) on \"Rates of Compact Object Coalescence\". In order to reproduce the figures one needs to download the data that is available on https://zenodo.org/record/5072401  !Make sure to use the latest version of the dataset!\n",
    "\n",
    "To make the figures from the paper, put all the data (at least 26 files, unless you are only interested in reproducing one of the Compact Object flavors) in one directory that we will refer to in the remaining jupyter notebook as the *path_to_data_directory*. Enter the path to the directory below, and run the jupyter notebook cells. \n",
    "\n",
    "\n",
    "\n",
    "\n",
    "### Reference\n",
    "If you use this data/code for publication, please cite both the paper: Mandel & Broekgaarden (2021) https://arxiv.org/abs/2107.14239 and the dataset on Zenodo through it's doi https://zenodo.org/record/5232245 doi: [![DOI](https://zenodo.org/badge/DOI/10.5281/zenodo.5232245.svg)](https://doi.org/10.5281/zenodo.5232245)\n",
    "\n",
    "\n",
    "\n",
    "For any questions or inquiry, please email one of or both the authors: \n",
    "Ilya Mandel: ilya.mandel@monash.edu \n",
    "Floor Broekgaarden: floor.broekgaarden@cfa.harvard.edu"
   ]
  },
  {
   "cell_type": "code",
   "execution_count": 1,
   "metadata": {},
   "outputs": [],
   "source": [
    "# full path to the directory with all data files   \n",
    "# change this to your path with the data directory\n",
    "path_to_data_directory = '/Users/floorbroekgaarden/Projects/GitHub/Rates_of_Compact_Object_Coalescence/Data_Mandel_and_Broekgaarden_2021/'\n",
    "\n"
   ]
  },
  {
   "cell_type": "code",
   "execution_count": null,
   "metadata": {},
   "outputs": [],
   "source": [
    "# the following lines import the `default_scripts` files that contains some global code / settings that are used throughout this jupyter notebook\n",
    "# if for some reason the python script is not working, or not importing, one can copy paste the code in the script and run it in a cell above/below this block \n",
    "# Not all codes / libraries loaded are strictly needed. \n",
    "\n",
    "import sys\n",
    "sys.path.append('.') \n",
    "from default_scripts import * \n",
    "\n",
    "# just to make the cells appear wider: comment these lines if needed. \n",
    "from IPython.core.display import display, HTML\n",
    "display(HTML(\"<style>.container { width:100% !important; }</style>\"))\n",
    "\n"
   ]
  },
  {
   "cell_type": "code",
   "execution_count": null,
   "metadata": {},
   "outputs": [],
   "source": []
  },
  {
   "cell_type": "code",
   "execution_count": null,
   "metadata": {},
   "outputs": [],
   "source": []
  },
  {
   "cell_type": "code",
   "execution_count": null,
   "metadata": {},
   "outputs": [],
   "source": []
  },
  {
   "cell_type": "markdown",
   "metadata": {},
   "source": [
    "## Make main figure "
   ]
  },
  {
   "cell_type": "code",
   "execution_count": null,
   "metadata": {
    "scrolled": false
   },
   "outputs": [],
   "source": [
    "# make the BH-BH rates comparison figure \n",
    "make_figure(DCOtype='BHBH', ordered='year', plotmedians=False, path_to_data_directory=path_to_data_directory)\n",
    "\n"
   ]
  },
  {
   "cell_type": "code",
   "execution_count": null,
   "metadata": {
    "scrolled": false
   },
   "outputs": [],
   "source": []
  },
  {
   "cell_type": "code",
   "execution_count": null,
   "metadata": {
    "scrolled": false
   },
   "outputs": [],
   "source": [
    "# make the NS-BH rates comparison figure \n",
    "make_figure(DCOtype='BHNS', ordered='year', plotmedians=False, path_to_data_directory=path_to_data_directory)\n",
    "\n"
   ]
  },
  {
   "cell_type": "code",
   "execution_count": null,
   "metadata": {},
   "outputs": [],
   "source": []
  },
  {
   "cell_type": "code",
   "execution_count": null,
   "metadata": {
    "scrolled": false
   },
   "outputs": [],
   "source": [
    "# make the NS-NS rates comparison figure \n",
    "make_figure(DCOtype='NSNS',ordered='year', plotmedians=False, path_to_data_directory=path_to_data_directory)\n",
    "\n"
   ]
  },
  {
   "cell_type": "code",
   "execution_count": null,
   "metadata": {},
   "outputs": [],
   "source": []
  },
  {
   "cell_type": "code",
   "execution_count": null,
   "metadata": {},
   "outputs": [],
   "source": []
  },
  {
   "cell_type": "code",
   "execution_count": null,
   "metadata": {},
   "outputs": [],
   "source": []
  },
  {
   "cell_type": "markdown",
   "metadata": {},
   "source": [
    "## Some code to create the color map used above (see the plotting scripts)"
   ]
  },
  {
   "cell_type": "code",
   "execution_count": null,
   "metadata": {},
   "outputs": [],
   "source": [
    "\n",
    "\n",
    "all_names = [ 'GWs', 'sGRBs', 'kilonovae', 'pulsars',\\\n",
    "                       'isolated binaries',  'CHE','pop-III','triples', 'dynamical: GC', 'dynamical: NC',  'dynamical: YSC',  'primordial']\n",
    "colors = sns.color_palette(\"husl\", len(all_names))   \n",
    "\n",
    "\n",
    "\n",
    "# colors_is = \n",
    "\n",
    "name_colors = dict(zip(all_names, colors))\n",
    "\n",
    " \n",
    "xx = range(len(all_names))\n",
    "yy = xx\n",
    "\n",
    "plt.scatter(xx,yy, c=colors, s=200)\n",
    "plt.show()\n",
    "\n",
    "\n",
    "colors = sns.color_palette(\"husl\", 12)\n",
    "xx = range(len(colors))\n",
    "yy = xx\n",
    "\n",
    "plt.scatter(xx,yy, c=colors, s=200)\n",
    "plt.show()\n",
    "\n",
    "\n",
    "\n",
    "\n",
    "\n",
    "c_GW = 'orangered'\n",
    "c_GRB = sns.color_palette(\"husl\", 12)[0] #  sns.color_palette(\"husl\", 20)[1] \n",
    "c_kn = sns.color_palette(\"husl\", 12)[1] #'darkgoldenrod' #sns.color_palette(\"husl\", 20)[3]\n",
    "c_psr =  sns.color_palette(\"husl\", 12)[2]# \"orange\"\n",
    "\n",
    "c_iso = sns.color_palette(\"husl\", 12)[4] #  sns.color_palette(\"husl\", 20)[6] #'limegreen'\n",
    "c_che = sns.color_palette(\"husl\", 12)[5] #\"forestgreen\" #sns.color_palette(\"husl\", 20)[8]\n",
    "c_popIII = sns.color_palette(\"husl\", 12)[6] # \"c\" #\"turquoise\" # sns.color_palette(\"husl\", 20)[12]\n",
    "c_trip = sns.color_palette(\"husl\", 12)[7] #\"royalblue\" #sns.color_palette(\"husl\", 20)[13]\n",
    "\n",
    "c_GC =  sns.color_palette(\"husl\", 12)[9] #sns.color_palette(\"husl\", 20)[15] \n",
    "c_NC = sns.color_palette(\"husl\", 12)[10] # \"blueviolet\" #\n",
    "c_YC =  sns.color_palette(\"husl\", 12)[11] # \"magenta\"\n",
    "\n",
    "c_prim = \"royalblue\" #\"brown\"\n",
    "\n",
    "\n",
    "colors = [c_GW, c_GRB, c_kn, c_psr, c_iso, c_che, c_popIII, c_trip, c_GC, c_NC, c_YC, c_prim]\n",
    "xx = range(len(colors))\n",
    "yy = xx\n",
    "\n",
    "plt.scatter(xx,yy, c=colors, s=200)\n",
    "plt.show()"
   ]
  },
  {
   "cell_type": "code",
   "execution_count": null,
   "metadata": {},
   "outputs": [],
   "source": []
  }
 ],
 "metadata": {
  "kernelspec": {
   "display_name": "Python 3",
   "language": "python",
   "name": "python3"
  },
  "language_info": {
   "codemirror_mode": {
    "name": "ipython",
    "version": 3
   },
   "file_extension": ".py",
   "mimetype": "text/x-python",
   "name": "python",
   "nbconvert_exporter": "python",
   "pygments_lexer": "ipython3",
   "version": "3.7.4"
  }
 },
 "nbformat": 4,
 "nbformat_minor": 2
}
