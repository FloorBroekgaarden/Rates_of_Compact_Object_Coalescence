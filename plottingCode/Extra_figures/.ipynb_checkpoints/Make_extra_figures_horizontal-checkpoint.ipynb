{
 "cells": [
  {
   "cell_type": "markdown",
   "metadata": {},
   "source": [
    "# STILL WORK IN PROGRESS 08/01/21# \n",
    "\n",
    "# Introduction\n",
    "\n",
    "This jupyter notebook creates additional figures from the data described in the review by Mandel & Broekgaarden (2021) on \"Rates of Compact Object Coalescence\". In order to produce the figures one needs to download the data that is available on https://zenodo.org/record/5072401  !Make sure to use the latest version of the dataset!\n",
    "\n",
    "To make the figures from the paper, put all the data (at least 26 files, unless you are only interested in reproducing one of the Compact Object flavors) in one directory that we will refer to in the remaining jupyter notebook as the *path_to_data_directory*. Enter the path to the directory below, and run the jupyter notebook cells. \n",
    "\n",
    "\n",
    "\n",
    "\n",
    "### Reference\n",
    "If you use this data/code for publication, please cite both the paper: Mandel & Broekgaarden (2021) and the dataset on Zenodo through it's doi https://zenodo.org/record/5072401 doi: [![DOI](https://zenodo.org/badge/DOI/10.5281/zenodo.5072401.svg)](https://doi.org/10.5281/zenodo.5072401)\n",
    "\n",
    "\n",
    "\n",
    "For any questions or inquiry, please email one of or both the authors: \n",
    "Ilya Mandel: ilya.mandel@monash.edu \n",
    "Floor Broekgaarden: floor.broekgaarden@cfa.harvard.edu"
   ]
  },
  {
   "cell_type": "code",
   "execution_count": 1,
   "metadata": {},
   "outputs": [],
   "source": [
    "# full path to the directory with all data files   \n",
    "# change this to your path with the data directory\n",
    "path_to_data_directory = '/Users/floorbroekgaarden/Projects/GitHub/Rates_of_Compact_Object_Coalescence/Data_Mandel_and_Broekgaarden_2021/'\n",
    "\n"
   ]
  },
  {
   "cell_type": "code",
   "execution_count": 2,
   "metadata": {},
   "outputs": [
    {
     "data": {
      "text/html": [
       "<style>.container { width:100% !important; }</style>"
      ],
      "text/plain": [
       "<IPython.core.display.HTML object>"
      ]
     },
     "metadata": {},
     "output_type": "display_data"
    }
   ],
   "source": [
    "# the following lines import the `default_scripts` files that contains some global code / settings that are used throughout this jupyter notebook\n",
    "# if for some reason the python script is not working, or not importing, one can copy paste the code in the script and run it in a cell above/below this block \n",
    "# Not all codes / libraries loaded are strictly needed. \n",
    "\n",
    "import sys\n",
    "sys.path.append('../') \n",
    "from default_scripts import * \n",
    "\n",
    "# just to make the cells appear wider: comment these lines if needed. \n",
    "from IPython.core.display import display, HTML\n",
    "display(HTML(\"<style>.container { width:100% !important; }</style>\"))\n",
    "\n"
   ]
  },
  {
   "cell_type": "code",
   "execution_count": null,
   "metadata": {},
   "outputs": [],
   "source": []
  }
 ],
 "metadata": {
  "kernelspec": {
   "display_name": "Python 3",
   "language": "python",
   "name": "python3"
  },
  "language_info": {
   "codemirror_mode": {
    "name": "ipython",
    "version": 3
   },
   "file_extension": ".py",
   "mimetype": "text/x-python",
   "name": "python",
   "nbconvert_exporter": "python",
   "pygments_lexer": "ipython3",
   "version": "3.7.4"
  }
 },
 "nbformat": 4,
 "nbformat_minor": 2
}
